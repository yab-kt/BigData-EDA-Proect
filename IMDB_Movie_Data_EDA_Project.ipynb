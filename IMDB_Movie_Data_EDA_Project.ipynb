{
  "nbformat": 4,
  "nbformat_minor": 0,
  "metadata": {
    "colab": {
      "provenance": [],
      "authorship_tag": "ABX9TyNz+d1kU9ymTL3v/megOxpL"
    },
    "kernelspec": {
      "name": "python3",
      "display_name": "Python 3"
    },
    "language_info": {
      "name": "python"
    }
  },
  "cells": [
    {
      "cell_type": "markdown",
      "source": [
        "# **Exploratory Data Analysis On IMDB Movie Data**\n",
        "\n",
        "Dataset From https://www.kaggle.com/datasets/PromptCloudHQ/imdb-data\n",
        "\n",
        "# **About this file**\n",
        "\n",
        "Here's a data set of 1,000 most popular movies on IMDB in the last 10 years. The data fields included are:\n",
        "\n",
        "Title, Genre, Description, Director, Actors, Year, Runtime, Rating, Votes, Revenue, Metascrore.\n",
        "\n",
        "# **Tasks**\n",
        "\n",
        "\n",
        "\n",
        "*   Ask Questions\n",
        "*   Wrangleb Data\n",
        "\n",
        "*   Perform Exploratory Data Analysis\n",
        "*   Draw Conclusions and Communicate Your Results\n",
        "\n",
        "\n",
        "\n"
      ],
      "metadata": {
        "id": "zvVeP3A7xkuL"
      }
    },
    {
      "cell_type": "markdown",
      "source": [
        "# Importing Libraries"
      ],
      "metadata": {
        "id": "C2zXPHL0DT8V"
      }
    },
    {
      "cell_type": "code",
      "execution_count": 6,
      "metadata": {
        "id": "KgKB58DWxLx2"
      },
      "outputs": [],
      "source": [
        "import numpy as np\n",
        "import pandas as pd\n",
        "import seaborn as sns\n",
        "import matplotlib.pyplot as plt"
      ]
    },
    {
      "cell_type": "markdown",
      "source": [
        "# Read Dataset"
      ],
      "metadata": {
        "id": "kJmhOnKXxelU"
      }
    },
    {
      "cell_type": "code",
      "source": [
        "data=pd.read_csv('/content/IMDB-Movie-Data.csv')"
      ],
      "metadata": {
        "id": "aYaqT5Tcyz18"
      },
      "execution_count": 7,
      "outputs": []
    },
    {
      "cell_type": "markdown",
      "source": [
        "# **Display The DataFrame**"
      ],
      "metadata": {
        "id": "z71LpbmEzXxA"
      }
    },
    {
      "cell_type": "code",
      "source": [
        "df = pd.DataFrame(data)\n",
        "print(df)"
      ],
      "metadata": {
        "id": "wyY_zBvShPV0"
      },
      "execution_count": null,
      "outputs": []
    },
    {
      "cell_type": "markdown",
      "source": [
        "# **Display Top 10 Rows of The Dataset**"
      ],
      "metadata": {
        "id": "SLHIDyy4hn4N"
      }
    },
    {
      "cell_type": "code",
      "source": [
        "data.head(10)"
      ],
      "metadata": {
        "id": "9Mk2yNgkzE2J"
      },
      "execution_count": null,
      "outputs": []
    },
    {
      "cell_type": "markdown",
      "source": [
        "# Check Last 10 Rows of The Dataset"
      ],
      "metadata": {
        "id": "jXXi_Vfjzoff"
      }
    },
    {
      "cell_type": "code",
      "source": [],
      "metadata": {
        "id": "ItSZBi8KB7CU"
      },
      "execution_count": null,
      "outputs": []
    },
    {
      "cell_type": "code",
      "source": [
        "data.tail(10)"
      ],
      "metadata": {
        "id": "ND_pAa6sz4eg"
      },
      "execution_count": null,
      "outputs": []
    },
    {
      "cell_type": "markdown",
      "source": [
        "# Find Shape of Our Dataset(Number of Columns and Rows)"
      ],
      "metadata": {
        "id": "8N-ymtjhz49B"
      }
    },
    {
      "cell_type": "code",
      "source": [
        "data.shape"
      ],
      "metadata": {
        "id": "V6tsiydw0AjI"
      },
      "execution_count": null,
      "outputs": []
    },
    {
      "cell_type": "code",
      "source": [
        "print(\"Number of Rows\",data.shape[0])\n",
        "print(\"Number of Columns\",data.shape[1])"
      ],
      "metadata": {
        "id": "9UwGvkmJ30VO"
      },
      "execution_count": null,
      "outputs": []
    },
    {
      "cell_type": "markdown",
      "source": [
        "# Getting Information About Our Dataset Like Total Number of Rows,Total Number of Columns,Datatypes of Each Column and Memory Requirment"
      ],
      "metadata": {
        "id": "E9h7vCnZ0BgV"
      }
    },
    {
      "cell_type": "code",
      "source": [
        "data.info()"
      ],
      "metadata": {
        "id": "PrR09zNv0eOm"
      },
      "execution_count": null,
      "outputs": []
    },
    {
      "cell_type": "markdown",
      "source": [
        "# Check Missing Values in The Dataset"
      ],
      "metadata": {
        "id": "DgWvYdTO0fMX"
      }
    },
    {
      "cell_type": "code",
      "source": [
        "print(\"Any Missing Value?\",data.isnull().values.any())"
      ],
      "metadata": {
        "id": "M4daTwzf0lBw"
      },
      "execution_count": null,
      "outputs": []
    },
    {
      "cell_type": "code",
      "source": [
        "data.isnull().sum()"
      ],
      "metadata": {
        "id": "qa8772Fi406W"
      },
      "execution_count": null,
      "outputs": []
    },
    {
      "cell_type": "code",
      "source": [
        "sns.heatmap(data.isnull())"
      ],
      "metadata": {
        "id": "2gvm3lVZ4l9q"
      },
      "execution_count": null,
      "outputs": []
    },
    {
      "cell_type": "code",
      "source": [
        "per_missing = data.isnull().sum() * 100 / len(data)\n",
        "per_missing"
      ],
      "metadata": {
        "id": "xT_VJldG5Oo7"
      },
      "execution_count": null,
      "outputs": []
    },
    {
      "cell_type": "markdown",
      "source": [
        "# Drop All The Missing Values\n"
      ],
      "metadata": {
        "id": "nmMJiK6J0ldz"
      }
    },
    {
      "cell_type": "code",
      "source": [
        "data.dropna(axis=0)"
      ],
      "metadata": {
        "id": "u4r188R30qyJ"
      },
      "execution_count": null,
      "outputs": []
    },
    {
      "cell_type": "markdown",
      "source": [
        "# Check For Duplicate Data"
      ],
      "metadata": {
        "id": "-cnCG-xV06KY"
      }
    },
    {
      "cell_type": "code",
      "source": [
        "dup_data=data.duplicated().any()"
      ],
      "metadata": {
        "id": "_YITJIJE04NT"
      },
      "execution_count": null,
      "outputs": []
    },
    {
      "cell_type": "code",
      "source": [
        "print(\"Are there any duplicate values?\",dup_data)"
      ],
      "metadata": {
        "id": "TXd_cEeC6Z6o"
      },
      "execution_count": null,
      "outputs": []
    },
    {
      "cell_type": "markdown",
      "source": [
        "# Get Overall Statistics About The Dataframe"
      ],
      "metadata": {
        "id": "hcpjw59F0-WU"
      }
    },
    {
      "cell_type": "code",
      "source": [
        "data.describe()"
      ],
      "metadata": {
        "id": "niYkL8Mg1NIQ"
      },
      "execution_count": null,
      "outputs": []
    },
    {
      "cell_type": "code",
      "source": [
        "data.describe(include='all')"
      ],
      "metadata": {
        "id": "p3TFHUFy6sD5"
      },
      "execution_count": null,
      "outputs": []
    },
    {
      "cell_type": "markdown",
      "source": [
        "\n",
        "## **Questions**\n",
        "# 1.Display Title of The Movie Having Runtime Greater Than or Equal to 180 Minutes"
      ],
      "metadata": {
        "id": "mbWjRjUq1NpX"
      }
    },
    {
      "cell_type": "code",
      "source": [
        "data.columns"
      ],
      "metadata": {
        "id": "RKqOnm861eJN"
      },
      "execution_count": null,
      "outputs": []
    },
    {
      "cell_type": "code",
      "source": [
        "data[data[ 'Runtime (Minutes)']>=180] ['Title']"
      ],
      "metadata": {
        "id": "w6bD1EEP7KVJ",
        "colab": {
          "base_uri": "https://localhost:8080/"
        },
        "outputId": "f0b3209c-f683-46fd-c23c-772627480da5"
      },
      "execution_count": 9,
      "outputs": [
        {
          "output_type": "execute_result",
          "data": {
            "text/plain": [
              "82     The Wolf of Wall Street\n",
              "88           The Hateful Eight\n",
              "311             La vie d'Adèle\n",
              "828                 Grindhouse\n",
              "965              Inland Empire\n",
              "Name: Title, dtype: object"
            ]
          },
          "metadata": {},
          "execution_count": 9
        }
      ]
    },
    {
      "cell_type": "markdown",
      "source": [
        "# 2.In Which Year There Was The Highest Average Voting?"
      ],
      "metadata": {
        "id": "1PVvWLlJ1eln"
      }
    },
    {
      "cell_type": "code",
      "source": [
        "data.columns"
      ],
      "metadata": {
        "id": "avsrY37r1qFp"
      },
      "execution_count": null,
      "outputs": []
    },
    {
      "cell_type": "code",
      "source": [
        "data.groupby('Year')['Votes'].mean().sort_values(ascending=False)"
      ],
      "metadata": {
        "id": "9v_yt8ta7zcR"
      },
      "execution_count": null,
      "outputs": []
    },
    {
      "cell_type": "code",
      "source": [
        "sns.barplot(x='Year',y='Votes',data=data)\n",
        "plt.title(\"Votes By Year\")\n",
        "plt.show()"
      ],
      "metadata": {
        "id": "ojiw_LIb8SNC",
        "colab": {
          "base_uri": "https://localhost:8080/",
          "height": 472
        },
        "outputId": "e66f3e7f-5bd3-4a00-974f-56529fb1eef4"
      },
      "execution_count": 10,
      "outputs": [
        {
          "output_type": "display_data",
          "data": {
            "text/plain": [
              "<Figure size 640x480 with 1 Axes>"
            ],
            "image/png": "[encoded data removed]"
          },
          "metadata": {}
        }
      ]
    },
    {
      "cell_type": "markdown",
      "source": [
        "# 3.In Which Year There Was The Highest Average Revenue?"
      ],
      "metadata": {
        "id": "25dy72px1q3t"
      }
    },
    {
      "cell_type": "code",
      "source": [
        "data.columns"
      ],
      "metadata": {
        "id": "Dfebu1aA13hf"
      },
      "execution_count": null,
      "outputs": []
    },
    {
      "cell_type": "code",
      "source": [
        "data.groupby('Year')['Revenue (Millions)'].mean().sort_values(ascending=False)"
      ],
      "metadata": {
        "id": "OXr5tF3K9Ul-"
      },
      "execution_count": null,
      "outputs": []
    },
    {
      "cell_type": "code",
      "source": [
        "sns.barplot(x='Year',y='Revenue (Millions)',data=data)\n",
        "plt.title(\"Revenue By Year\")\n",
        "plt.show()"
      ],
      "metadata": {
        "id": "Vo_Etqf09f_5",
        "colab": {
          "base_uri": "https://localhost:8080/",
          "height": 472
        },
        "outputId": "91472d8e-8c52-4ec9-9c83-14458bfe99ae"
      },
      "execution_count": 11,
      "outputs": [
        {
          "output_type": "display_data",
          "data": {
            "text/plain": [
              "<Figure size 640x480 with 1 Axes>"
            ],
            "image/png": "[encoded data removed]"
          },
          "metadata": {}
        }
      ]
    },
    {
      "cell_type": "markdown",
      "source": [
        "# 4.Find The Average Rating For Each Director"
      ],
      "metadata": {
        "id": "N80N93G313zO"
      }
    },
    {
      "cell_type": "code",
      "source": [
        "data.columns"
      ],
      "metadata": {
        "id": "SnefPz1k2Acd"
      },
      "execution_count": null,
      "outputs": []
    },
    {
      "cell_type": "code",
      "source": [
        "data.groupby('Director')['Rating'].mean().sort_values(ascending=False)"
      ],
      "metadata": {
        "id": "3Zu6YPY890Rc",
        "colab": {
          "base_uri": "https://localhost:8080/"
        },
        "outputId": "cc9f7678-b828-45d2-fe7e-f0f9adf03a62"
      },
      "execution_count": 12,
      "outputs": [
        {
          "output_type": "execute_result",
          "data": {
            "text/plain": [
              "Director\n",
              "Nitesh Tiwari        8.80\n",
              "Christopher Nolan    8.68\n",
              "Olivier Nakache      8.60\n",
              "Makoto Shinkai       8.60\n",
              "Aamir Khan           8.50\n",
              "                     ... \n",
              "Micheal Bafaro       3.50\n",
              "Jonathan Holbrook    3.20\n",
              "Shawn Burkett        2.70\n",
              "James Wong           2.70\n",
              "Jason Friedberg      1.90\n",
              "Name: Rating, Length: 644, dtype: float64"
            ]
          },
          "metadata": {},
          "execution_count": 12
        }
      ]
    },
    {
      "cell_type": "markdown",
      "source": [
        "# 5.Display Top 10 Lengthy Movies Title and Runtime"
      ],
      "metadata": {
        "id": "vYYDqPlR2A7T"
      }
    },
    {
      "cell_type": "code",
      "source": [
        "data.columns"
      ],
      "metadata": {
        "id": "ZrO34I8p2LdW"
      },
      "execution_count": null,
      "outputs": []
    },
    {
      "cell_type": "code",
      "source": [
        "top10_len=data.nlargest(10,'Runtime (Minutes)')[['Title', 'Runtime (Minutes)']]\\\n",
        ".set_index('Title')"
      ],
      "metadata": {
        "id": "pMeBRyjv-iFV"
      },
      "execution_count": 14,
      "outputs": []
    },
    {
      "cell_type": "code",
      "source": [
        "top10_len"
      ],
      "metadata": {
        "id": "M4q4t5X1_rlo"
      },
      "execution_count": null,
      "outputs": []
    },
    {
      "cell_type": "code",
      "source": [
        "sns.barplot(x='Runtime (Minutes)',y=top10_len.index,data=top10_len)"
      ],
      "metadata": {
        "id": "aopV9pZh_z9s",
        "colab": {
          "base_uri": "https://localhost:8080/",
          "height": 466
        },
        "outputId": "7b6c66eb-22db-46ba-c1c3-6e83623e5d10"
      },
      "execution_count": 16,
      "outputs": [
        {
          "output_type": "execute_result",
          "data": {
            "text/plain": [
              "<Axes: xlabel='Runtime (Minutes)', ylabel='Title'>"
            ]
          },
          "metadata": {},
          "execution_count": 16
        },
        {
          "output_type": "display_data",
          "data": {
            "text/plain": [
              "<Figure size 640x480 with 1 Axes>"
            ],
            "image/png": "[encoded data removed]"
          },
          "metadata": {}
        }
      ]
    },
    {
      "cell_type": "markdown",
      "source": [
        "# 6.Display Number of Movies Per Year"
      ],
      "metadata": {
        "id": "4FLDUgRD2L0A"
      }
    },
    {
      "cell_type": "code",
      "source": [
        "data.columns"
      ],
      "metadata": {
        "id": "ajh8Zol12TF1"
      },
      "execution_count": null,
      "outputs": []
    },
    {
      "cell_type": "code",
      "source": [
        "data['Year'].value_counts()"
      ],
      "metadata": {
        "id": "XcIdzXwuAirE"
      },
      "execution_count": null,
      "outputs": []
    },
    {
      "cell_type": "code",
      "source": [
        "sns.countplot(x='Year',data=data)\n",
        "plt.title(\"Number of Movies Per Year\")\n",
        "plt.show()"
      ],
      "metadata": {
        "id": "QODiJ0wIAvQS",
        "colab": {
          "base_uri": "https://localhost:8080/",
          "height": 472
        },
        "outputId": "740951ce-445a-4a3e-f8af-318355b39781"
      },
      "execution_count": 18,
      "outputs": [
        {
          "output_type": "display_data",
          "data": {
            "text/plain": [
              "<Figure size 640x480 with 1 Axes>"
            ],
            "image/png": "[encoded data removed]"
          },
          "metadata": {}
        }
      ]
    },
    {
      "cell_type": "markdown",
      "source": [
        "# 7.Find Most Popular Movie Title (Highest Revenue)"
      ],
      "metadata": {
        "id": "ejYomH702TZb"
      }
    },
    {
      "cell_type": "code",
      "source": [
        "data.columns"
      ],
      "metadata": {
        "id": "0oNkXOUF2e3M"
      },
      "execution_count": null,
      "outputs": []
    },
    {
      "cell_type": "code",
      "source": [
        "data[data['Revenue (Millions)'].max()==data['Revenue (Millions)']]['Title']"
      ],
      "metadata": {
        "id": "1chVaydaBK64",
        "colab": {
          "base_uri": "https://localhost:8080/"
        },
        "outputId": "4fdf25bc-a7fe-4d88-e831-d355dafe08fc"
      },
      "execution_count": 19,
      "outputs": [
        {
          "output_type": "execute_result",
          "data": {
            "text/plain": [
              "50    Star Wars: Episode VII - The Force Awakens\n",
              "Name: Title, dtype: object"
            ]
          },
          "metadata": {},
          "execution_count": 19
        }
      ]
    },
    {
      "cell_type": "markdown",
      "source": [
        "# 8.Display Top 10 Highest Rated Movie Titles and its Directors"
      ],
      "metadata": {
        "id": "yyZw5L61EuyS"
      }
    },
    {
      "cell_type": "code",
      "source": [
        "data.columns"
      ],
      "metadata": {
        "id": "Tz67b-5aMPJd"
      },
      "execution_count": null,
      "outputs": []
    },
    {
      "cell_type": "code",
      "source": [
        "top10_len=data.nlargest(10,'Rating')[['Title', 'Rating', 'Director']]\\\n",
        ".set_index('Title')"
      ],
      "metadata": {
        "id": "KzSXOdK-Lzuc"
      },
      "execution_count": 21,
      "outputs": []
    },
    {
      "cell_type": "code",
      "source": [
        "top10_len"
      ],
      "metadata": {
        "id": "_vxsEHG9MWo3"
      },
      "execution_count": null,
      "outputs": []
    },
    {
      "cell_type": "code",
      "source": [
        "sns.barplot(x='Rating',y=top10_len.index,data=top10_len,hue='Director',dodge=False)\n",
        "plt.legend(bbox_to_anchor=(1.05,1),loc=2)"
      ],
      "metadata": {
        "id": "N2sJw2U3Ou5h",
        "colab": {
          "base_uri": "https://localhost:8080/",
          "height": 443
        },
        "outputId": "08b9d71e-a02d-4009-b8b8-e5f673e8123e"
      },
      "execution_count": 22,
      "outputs": [
        {
          "output_type": "execute_result",
          "data": {
            "text/plain": [
              "<matplotlib.legend.Legend at 0x7e9872321bd0>"
            ]
          },
          "metadata": {},
          "execution_count": 22
        },
        {
          "output_type": "display_data",
          "data": {
            "text/plain": [
              "<Figure size 640x480 with 1 Axes>"
            ],
            "image/png": "[encoded data removed]"
          },
          "metadata": {}
        }
      ]
    },
    {
      "cell_type": "markdown",
      "source": [
        "# 9.Display Top 10 Highest Revenue Movie Titles"
      ],
      "metadata": {
        "id": "yrAaZn3ZFBCh"
      }
    },
    {
      "cell_type": "code",
      "source": [
        "data.columns"
      ],
      "metadata": {
        "id": "chW01VXYO6Ar"
      },
      "execution_count": null,
      "outputs": []
    },
    {
      "cell_type": "code",
      "source": [
        "data.nlargest(10,'Revenue (Millions)')['Title']"
      ],
      "metadata": {
        "id": "SYVIgSRVO9Jw"
      },
      "execution_count": null,
      "outputs": []
    },
    {
      "cell_type": "code",
      "source": [
        "top_10=data.nlargest(10,'Revenue (Millions)')[['Title','Revenue (Millions)']].\\\n",
        "set_index('Title')"
      ],
      "metadata": {
        "id": "QKIQFASTPh1m"
      },
      "execution_count": 24,
      "outputs": []
    },
    {
      "cell_type": "code",
      "source": [
        "top_10"
      ],
      "metadata": {
        "id": "nLQbcLRiQB3e"
      },
      "execution_count": null,
      "outputs": []
    },
    {
      "cell_type": "code",
      "source": [
        "sns.barplot(x='Revenue (Millions)',y=top_10.index,data=top_10)\n",
        "plt.title(\"Top 10 Highest Revenue Movie Titles\")\n",
        "plt.show()"
      ],
      "metadata": {
        "id": "G1v-15JIQF8H",
        "colab": {
          "base_uri": "https://localhost:8080/",
          "height": 472
        },
        "outputId": "010bfa55-71d1-4f3a-d5d5-7481faa1489b"
      },
      "execution_count": 25,
      "outputs": [
        {
          "output_type": "display_data",
          "data": {
            "text/plain": [
              "<Figure size 640x480 with 1 Axes>"
            ],
            "image/png": "[encoded data removed]"
          },
          "metadata": {}
        }
      ]
    },
    {
      "cell_type": "markdown",
      "source": [
        "# 10.Does Rating Affect The Revenue?"
      ],
      "metadata": {
        "id": "zpcO9QU3FYPN"
      }
    },
    {
      "cell_type": "code",
      "source": [
        "data.columns"
      ],
      "metadata": {
        "id": "faP1-gINFXhY"
      },
      "execution_count": null,
      "outputs": []
    },
    {
      "cell_type": "code",
      "source": [
        "sns.scatterplot(x=\"Rating\",y=\"Revenue (Millions)\",data=data)"
      ],
      "metadata": {
        "id": "ZN1LOeEuRPNA",
        "colab": {
          "base_uri": "https://localhost:8080/",
          "height": 466
        },
        "outputId": "5f5a79e6-c9cc-4370-e88f-14f5fd5a4df1"
      },
      "execution_count": 26,
      "outputs": [
        {
          "output_type": "execute_result",
          "data": {
            "text/plain": [
              "<Axes: xlabel='Rating', ylabel='Revenue (Millions)'>"
            ]
          },
          "metadata": {},
          "execution_count": 26
        },
        {
          "output_type": "display_data",
          "data": {
            "text/plain": [
              "<Figure size 640x480 with 1 Axes>"
            ],
            "image/png": "[encoded data removed]"
          },
          "metadata": {}
        }
      ]
    },
    {
      "cell_type": "markdown",
      "source": [
        "# 11.Classify Movies Based on Rating [Excellent,Good,and Average]"
      ],
      "metadata": {
        "id": "WfEplPVBFhqV"
      }
    },
    {
      "cell_type": "code",
      "source": [
        "data.columns"
      ],
      "metadata": {
        "id": "4DEXMOw1Fw-O"
      },
      "execution_count": null,
      "outputs": []
    },
    {
      "cell_type": "code",
      "source": [
        "def rating(rating):\n",
        "    if rating >= 8.0:\n",
        "        return \"Excellent\"\n",
        "    elif rating >= 7.0:\n",
        "        return \"Good\"\n",
        "    else:\n",
        "        return \"Average\""
      ],
      "metadata": {
        "id": "F37BDipnSl7g"
      },
      "execution_count": null,
      "outputs": []
    },
    {
      "cell_type": "code",
      "source": [
        "data['rating_cat']=data['Rating'].apply(rating)"
      ],
      "metadata": {
        "id": "YH-a6vtBV8B6"
      },
      "execution_count": null,
      "outputs": []
    },
    {
      "cell_type": "code",
      "source": [
        "data.head()"
      ],
      "metadata": {
        "id": "aREfqF5RWPhP",
        "colab": {
          "base_uri": "https://localhost:8080/",
          "height": 573
        },
        "outputId": "0eb5444a-f958-4bb9-b8b8-948b69e555b1"
      },
      "execution_count": 27,
      "outputs": [
        {
          "output_type": "execute_result",
          "data": {
            "text/plain": [
              "   Rank                    Title                     Genre  \\\n",
              "0     1  Guardians of the Galaxy   Action,Adventure,Sci-Fi   \n",
              "1     2               Prometheus  Adventure,Mystery,Sci-Fi   \n",
              "2     3                    Split           Horror,Thriller   \n",
              "3     4                     Sing   Animation,Comedy,Family   \n",
              "4     5            Suicide Squad  Action,Adventure,Fantasy   \n",
              "\n",
              "                                         Description              Director  \\\n",
              "0  A group of intergalactic criminals are forced ...            James Gunn   \n",
              "1  Following clues to the origin of mankind, a te...          Ridley Scott   \n",
              "2  Three girls are kidnapped by a man with a diag...    M. Night Shyamalan   \n",
              "3  In a city of humanoid animals, a hustling thea...  Christophe Lourdelet   \n",
              "4  A secret government agency recruits some of th...            David Ayer   \n",
              "\n",
              "                                              Actors  Year  Runtime (Minutes)  \\\n",
              "0  Chris Pratt, Vin Diesel, Bradley Cooper, Zoe S...  2014                121   \n",
              "1  Noomi Rapace, Logan Marshall-Green, Michael Fa...  2012                124   \n",
              "2  James McAvoy, Anya Taylor-Joy, Haley Lu Richar...  2016                117   \n",
              "3  Matthew McConaughey,Reese Witherspoon, Seth Ma...  2016                108   \n",
              "4  Will Smith, Jared Leto, Margot Robbie, Viola D...  2016                123   \n",
              "\n",
              "   Rating   Votes  Revenue (Millions)  Metascore  \n",
              "0     8.1  757074              333.13       76.0  \n",
              "1     7.0  485820              126.46       65.0  \n",
              "2     7.3  157606              138.12       62.0  \n",
              "3     7.2   60545              270.32       59.0  \n",
              "4     6.2  393727              325.02       40.0  "
            ],
            "text/html": [
              "\n",
              "  <div id=\"df-f2a274a1-1f56-4093-9f94-9448f6c54a98\" class=\"colab-df-container\">\n",
              "    <div>\n",
              "<style scoped>\n",
              "    .dataframe tbody tr th:only-of-type {\n",
              "        vertical-align: middle;\n",
              "    }\n",
              "\n",
              "    .dataframe tbody tr th {\n",
              "        vertical-align: top;\n",
              "    }\n",
              "\n",
              "    .dataframe thead th {\n",
              "        text-align: right;\n",
              "    }\n",
              "</style>\n",
              "<table border=\"1\" class=\"dataframe\">\n",
              "  <thead>\n",
              "    <tr style=\"text-align: right;\">\n",
              "      <th></th>\n",
              "      <th>Rank</th>\n",
              "      <th>Title</th>\n",
              "      <th>Genre</th>\n",
              "      <th>Description</th>\n",
              "      <th>Director</th>\n",
              "      <th>Actors</th>\n",
              "      <th>Year</th>\n",
              "      <th>Runtime (Minutes)</th>\n",
              "      <th>Rating</th>\n",
              "      <th>Votes</th>\n",
              "      <th>Revenue (Millions)</th>\n",
              "      <th>Metascore</th>\n",
              "    </tr>\n",
              "  </thead>\n",
              "  <tbody>\n",
              "    <tr>\n",
              "      <th>0</th>\n",
              "      <td>1</td>\n",
              "      <td>Guardians of the Galaxy</td>\n",
              "      <td>Action,Adventure,Sci-Fi</td>\n",
              "      <td>A group of intergalactic criminals are forced ...</td>\n",
              "      <td>James Gunn</td>\n",
              "      <td>Chris Pratt, Vin Diesel, Bradley Cooper, Zoe S...</td>\n",
              "      <td>2014</td>\n",
              "      <td>121</td>\n",
              "      <td>8.1</td>\n",
              "      <td>757074</td>\n",
              "      <td>333.13</td>\n",
              "      <td>76.0</td>\n",
              "    </tr>\n",
              "    <tr>\n",
              "      <th>1</th>\n",
              "      <td>2</td>\n",
              "      <td>Prometheus</td>\n",
              "      <td>Adventure,Mystery,Sci-Fi</td>\n",
              "      <td>Following clues to the origin of mankind, a te...</td>\n",
              "      <td>Ridley Scott</td>\n",
              "      <td>Noomi Rapace, Logan Marshall-Green, Michael Fa...</td>\n",
              "      <td>2012</td>\n",
              "      <td>124</td>\n",
              "      <td>7.0</td>\n",
              "      <td>485820</td>\n",
              "      <td>126.46</td>\n",
              "      <td>65.0</td>\n",
              "    </tr>\n",
              "    <tr>\n",
              "      <th>2</th>\n",
              "      <td>3</td>\n",
              "      <td>Split</td>\n",
              "      <td>Horror,Thriller</td>\n",
              "      <td>Three girls are kidnapped by a man with a diag...</td>\n",
              "      <td>M. Night Shyamalan</td>\n",
              "      <td>James McAvoy, Anya Taylor-Joy, Haley Lu Richar...</td>\n",
              "      <td>2016</td>\n",
              "      <td>117</td>\n",
              "      <td>7.3</td>\n",
              "      <td>157606</td>\n",
              "      <td>138.12</td>\n",
              "      <td>62.0</td>\n",
              "    </tr>\n",
              "    <tr>\n",
              "      <th>3</th>\n",
              "      <td>4</td>\n",
              "      <td>Sing</td>\n",
              "      <td>Animation,Comedy,Family</td>\n",
              "      <td>In a city of humanoid animals, a hustling thea...</td>\n",
              "      <td>Christophe Lourdelet</td>\n",
              "      <td>Matthew McConaughey,Reese Witherspoon, Seth Ma...</td>\n",
              "      <td>2016</td>\n",
              "      <td>108</td>\n",
              "      <td>7.2</td>\n",
              "      <td>60545</td>\n",
              "      <td>270.32</td>\n",
              "      <td>59.0</td>\n",
              "    </tr>\n",
              "    <tr>\n",
              "      <th>4</th>\n",
              "      <td>5</td>\n",
              "      <td>Suicide Squad</td>\n",
              "      <td>Action,Adventure,Fantasy</td>\n",
              "      <td>A secret government agency recruits some of th...</td>\n",
              "      <td>David Ayer</td>\n",
              "      <td>Will Smith, Jared Leto, Margot Robbie, Viola D...</td>\n",
              "      <td>2016</td>\n",
              "      <td>123</td>\n",
              "      <td>6.2</td>\n",
              "      <td>393727</td>\n",
              "      <td>325.02</td>\n",
              "      <td>40.0</td>\n",
              "    </tr>\n",
              "  </tbody>\n",
              "</table>\n",
              "</div>\n",
              "    <div class=\"colab-df-buttons\">\n",
              "\n",
              "  <div class=\"colab-df-container\">\n",
              "    <button class=\"colab-df-convert\" onclick=\"convertToInteractive('df-f2a274a1-1f56-4093-9f94-9448f6c54a98')\"\n",
              "            title=\"Convert this dataframe to an interactive table.\"\n",
              "            style=\"display:none;\">\n",
              "\n",
              "  <svg xmlns=\"http://www.w3.org/2000/svg\" height=\"24px\" viewBox=\"0 -960 960 960\">\n",
              "    <path d=\"M120-120v-720h720v720H120Zm60-500h600v-160H180v160Zm220 220h160v-160H400v160Zm0 220h160v-160H400v160ZM180-400h160v-160H180v160Zm440 0h160v-160H620v160ZM180-180h160v-160H180v160Zm440 0h160v-160H620v160Z\"/>\n",
              "  </svg>\n",
              "    </button>\n",
              "\n",
              "  <style>\n",
              "    .colab-df-container {\n",
              "      display:flex;\n",
              "      gap: 12px;\n",
              "    }\n",
              "\n",
              "    .colab-df-convert {\n",
              "      background-color: #E8F0FE;\n",
              "      border: none;\n",
              "      border-radius: 50%;\n",
              "      cursor: pointer;\n",
              "      display: none;\n",
              "      fill: #1967D2;\n",
              "      height: 32px;\n",
              "      padding: 0 0 0 0;\n",
              "      width: 32px;\n",
              "    }\n",
              "\n",
              "    .colab-df-convert:hover {\n",
              "      background-color: #E2EBFA;\n",
              "      box-shadow: 0px 1px 2px rgba(60, 64, 67, 0.3), 0px 1px 3px 1px rgba(60, 64, 67, 0.15);\n",
              "      fill: #174EA6;\n",
              "    }\n",
              "\n",
              "    .colab-df-buttons div {\n",
              "      margin-bottom: 4px;\n",
              "    }\n",
              "\n",
              "    [theme=dark] .colab-df-convert {\n",
              "      background-color: #3B4455;\n",
              "      fill: #D2E3FC;\n",
              "    }\n",
              "\n",
              "    [theme=dark] .colab-df-convert:hover {\n",
              "      background-color: #434B5C;\n",
              "      box-shadow: 0px 1px 3px 1px rgba(0, 0, 0, 0.15);\n",
              "      filter: drop-shadow(0px 1px 2px rgba(0, 0, 0, 0.3));\n",
              "      fill: #FFFFFF;\n",
              "    }\n",
              "  </style>\n",
              "\n",
              "    <script>\n",
              "      const buttonEl =\n",
              "        document.querySelector('#df-f2a274a1-1f56-4093-9f94-9448f6c54a98 button.colab-df-convert');\n",
              "      buttonEl.style.display =\n",
              "        google.colab.kernel.accessAllowed ? 'block' : 'none';\n",
              "\n",
              "      async function convertToInteractive(key) {\n",
              "        const element = document.querySelector('#df-f2a274a1-1f56-4093-9f94-9448f6c54a98');\n",
              "        const dataTable =\n",
              "          await google.colab.kernel.invokeFunction('convertToInteractive',\n",
              "                                                    [key], {});\n",
              "        if (!dataTable) return;\n",
              "\n",
              "        const docLinkHtml = 'Like what you see? Visit the ' +\n",
              "          '<a target=\"_blank\" href=https://colab.research.google.com/notebooks/data_table.ipynb>data table notebook</a>'\n",
              "          + ' to learn more about interactive tables.';\n",
              "        element.innerHTML = '';\n",
              "        dataTable['output_type'] = 'display_data';\n",
              "        await google.colab.output.renderOutput(dataTable, element);\n",
              "        const docLink = document.createElement('div');\n",
              "        docLink.innerHTML = docLinkHtml;\n",
              "        element.appendChild(docLink);\n",
              "      }\n",
              "    </script>\n",
              "  </div>\n",
              "\n",
              "\n",
              "<div id=\"df-3b00ad95-a6b8-4c20-984f-173b5b89edd5\">\n",
              "  <button class=\"colab-df-quickchart\" onclick=\"quickchart('df-3b00ad95-a6b8-4c20-984f-173b5b89edd5')\"\n",
              "            title=\"Suggest charts\"\n",
              "            style=\"display:none;\">\n",
              "\n",
              "<svg xmlns=\"http://www.w3.org/2000/svg\" height=\"24px\"viewBox=\"0 0 24 24\"\n",
              "     width=\"24px\">\n",
              "    <g>\n",
              "        <path d=\"M19 3H5c-1.1 0-2 .9-2 2v14c0 1.1.9 2 2 2h14c1.1 0 2-.9 2-2V5c0-1.1-.9-2-2-2zM9 17H7v-7h2v7zm4 0h-2V7h2v10zm4 0h-2v-4h2v4z\"/>\n",
              "    </g>\n",
              "</svg>\n",
              "  </button>\n",
              "\n",
              "<style>\n",
              "  .colab-df-quickchart {\n",
              "      --bg-color: #E8F0FE;\n",
              "      --fill-color: #1967D2;\n",
              "      --hover-bg-color: #E2EBFA;\n",
              "      --hover-fill-color: #174EA6;\n",
              "      --disabled-fill-color: #AAA;\n",
              "      --disabled-bg-color: #DDD;\n",
              "  }\n",
              "\n",
              "  [theme=dark] .colab-df-quickchart {\n",
              "      --bg-color: #3B4455;\n",
              "      --fill-color: #D2E3FC;\n",
              "      --hover-bg-color: #434B5C;\n",
              "      --hover-fill-color: #FFFFFF;\n",
              "      --disabled-bg-color: #3B4455;\n",
              "      --disabled-fill-color: #666;\n",
              "  }\n",
              "\n",
              "  .colab-df-quickchart {\n",
              "    background-color: var(--bg-color);\n",
              "    border: none;\n",
              "    border-radius: 50%;\n",
              "    cursor: pointer;\n",
              "    display: none;\n",
              "    fill: var(--fill-color);\n",
              "    height: 32px;\n",
              "    padding: 0;\n",
              "    width: 32px;\n",
              "  }\n",
              "\n",
              "  .colab-df-quickchart:hover {\n",
              "    background-color: var(--hover-bg-color);\n",
              "    box-shadow: 0 1px 2px rgba(60, 64, 67, 0.3), 0 1px 3px 1px rgba(60, 64, 67, 0.15);\n",
              "    fill: var(--button-hover-fill-color);\n",
              "  }\n",
              "\n",
              "  .colab-df-quickchart-complete:disabled,\n",
              "  .colab-df-quickchart-complete:disabled:hover {\n",
              "    background-color: var(--disabled-bg-color);\n",
              "    fill: var(--disabled-fill-color);\n",
              "    box-shadow: none;\n",
              "  }\n",
              "\n",
              "  .colab-df-spinner {\n",
              "    border: 2px solid var(--fill-color);\n",
              "    border-color: transparent;\n",
              "    border-bottom-color: var(--fill-color);\n",
              "    animation:\n",
              "      spin 1s steps(1) infinite;\n",
              "  }\n",
              "\n",
              "  @keyframes spin {\n",
              "    0% {\n",
              "      border-color: transparent;\n",
              "      border-bottom-color: var(--fill-color);\n",
              "      border-left-color: var(--fill-color);\n",
              "    }\n",
              "    20% {\n",
              "      border-color: transparent;\n",
              "      border-left-color: var(--fill-color);\n",
              "      border-top-color: var(--fill-color);\n",
              "    }\n",
              "    30% {\n",
              "      border-color: transparent;\n",
              "      border-left-color: var(--fill-color);\n",
              "      border-top-color: var(--fill-color);\n",
              "      border-right-color: var(--fill-color);\n",
              "    }\n",
              "    40% {\n",
              "      border-color: transparent;\n",
              "      border-right-color: var(--fill-color);\n",
              "      border-top-color: var(--fill-color);\n",
              "    }\n",
              "    60% {\n",
              "      border-color: transparent;\n",
              "      border-right-color: var(--fill-color);\n",
              "    }\n",
              "    80% {\n",
              "      border-color: transparent;\n",
              "      border-right-color: var(--fill-color);\n",
              "      border-bottom-color: var(--fill-color);\n",
              "    }\n",
              "    90% {\n",
              "      border-color: transparent;\n",
              "      border-bottom-color: var(--fill-color);\n",
              "    }\n",
              "  }\n",
              "</style>\n",
              "\n",
              "  <script>\n",
              "    async function quickchart(key) {\n",
              "      const quickchartButtonEl =\n",
              "        document.querySelector('#' + key + ' button');\n",
              "      quickchartButtonEl.disabled = true;  // To prevent multiple clicks.\n",
              "      quickchartButtonEl.classList.add('colab-df-spinner');\n",
              "      try {\n",
              "        const charts = await google.colab.kernel.invokeFunction(\n",
              "            'suggestCharts', [key], {});\n",
              "      } catch (error) {\n",
              "        console.error('Error during call to suggestCharts:', error);\n",
              "      }\n",
              "      quickchartButtonEl.classList.remove('colab-df-spinner');\n",
              "      quickchartButtonEl.classList.add('colab-df-quickchart-complete');\n",
              "    }\n",
              "    (() => {\n",
              "      let quickchartButtonEl =\n",
              "        document.querySelector('#df-3b00ad95-a6b8-4c20-984f-173b5b89edd5 button');\n",
              "      quickchartButtonEl.style.display =\n",
              "        google.colab.kernel.accessAllowed ? 'block' : 'none';\n",
              "    })();\n",
              "  </script>\n",
              "</div>\n",
              "\n",
              "    </div>\n",
              "  </div>\n"
            ]
          },
          "metadata": {},
          "execution_count": 27
        }
      ]
    },
    {
      "cell_type": "markdown",
      "source": [
        "# 12.Count Number of Action Movies"
      ],
      "metadata": {
        "id": "sImzmzdCFxl4"
      }
    },
    {
      "cell_type": "code",
      "source": [
        "data.columns"
      ],
      "metadata": {
        "id": "muanCiVYF5kZ"
      },
      "execution_count": null,
      "outputs": []
    },
    {
      "cell_type": "code",
      "source": [
        "data['Genre'].dtype"
      ],
      "metadata": {
        "id": "5Lt59a3jWtnI"
      },
      "execution_count": null,
      "outputs": []
    },
    {
      "cell_type": "code",
      "source": [
        "(data[data['Genre'].str.contains('Action',case=False)])"
      ],
      "metadata": {
        "id": "n0PYyG-rW10O"
      },
      "execution_count": null,
      "outputs": []
    },
    {
      "cell_type": "code",
      "source": [
        "len(data[data['Genre'].str.contains('Action',case=False)])"
      ],
      "metadata": {
        "id": "syBtxV68YTge",
        "colab": {
          "base_uri": "https://localhost:8080/"
        },
        "outputId": "c6d98221-f2b7-4d60-8c76-7d989d2d9999"
      },
      "execution_count": 28,
      "outputs": [
        {
          "output_type": "execute_result",
          "data": {
            "text/plain": [
              "303"
            ]
          },
          "metadata": {},
          "execution_count": 28
        }
      ]
    },
    {
      "cell_type": "markdown",
      "source": [
        "# 13.Find Unique Values From Genre"
      ],
      "metadata": {
        "id": "QG033bqXF6Qv"
      }
    },
    {
      "cell_type": "code",
      "source": [
        "data.columns"
      ],
      "metadata": {
        "id": "eE0xiDkBG6Hf"
      },
      "execution_count": null,
      "outputs": []
    },
    {
      "cell_type": "code",
      "source": [
        "data['Genre']"
      ],
      "metadata": {
        "id": "AIyQEKR0XsFA"
      },
      "execution_count": null,
      "outputs": []
    },
    {
      "cell_type": "code",
      "source": [
        "list1=[]\n",
        "for value in data['Genre']:\n",
        "  list1.append(value.split(','))"
      ],
      "metadata": {
        "id": "ZJAKGeQLYd-V"
      },
      "execution_count": 30,
      "outputs": []
    },
    {
      "cell_type": "code",
      "source": [
        "list1"
      ],
      "metadata": {
        "id": "w_BWFDUjaspt"
      },
      "execution_count": null,
      "outputs": []
    },
    {
      "cell_type": "code",
      "source": [
        "one_d = []\n",
        "for item in list1:\n",
        "    for item1 in item:\n",
        "        one_d.append(item1)"
      ],
      "metadata": {
        "id": "mWTg3NEna6Ya"
      },
      "execution_count": 31,
      "outputs": []
    },
    {
      "cell_type": "code",
      "source": [
        "one_d"
      ],
      "metadata": {
        "id": "kgG-U783bwgy"
      },
      "execution_count": null,
      "outputs": []
    },
    {
      "cell_type": "code",
      "source": [
        "uni_list=[]\n",
        "for item in one_d:\n",
        "  if item not in uni_list:\n",
        "    uni_list.append(item)"
      ],
      "metadata": {
        "id": "ZSFDT8BPb0w5"
      },
      "execution_count": 32,
      "outputs": []
    },
    {
      "cell_type": "code",
      "source": [
        "uni_list"
      ],
      "metadata": {
        "id": "Tpqf4NuncO0G",
        "colab": {
          "base_uri": "https://localhost:8080/"
        },
        "outputId": "02aaa5ee-3313-431f-9ef0-e1c9aedfac61"
      },
      "execution_count": 33,
      "outputs": [
        {
          "output_type": "execute_result",
          "data": {
            "text/plain": [
              "['Action',\n",
              " 'Adventure',\n",
              " 'Sci-Fi',\n",
              " 'Mystery',\n",
              " 'Horror',\n",
              " 'Thriller',\n",
              " 'Animation',\n",
              " 'Comedy',\n",
              " 'Family',\n",
              " 'Fantasy',\n",
              " 'Drama',\n",
              " 'Music',\n",
              " 'Biography',\n",
              " 'Romance',\n",
              " 'History',\n",
              " 'Crime',\n",
              " 'Western',\n",
              " 'War',\n",
              " 'Musical',\n",
              " 'Sport']"
            ]
          },
          "metadata": {},
          "execution_count": 33
        }
      ]
    },
    {
      "cell_type": "markdown",
      "source": [
        "## **Summary**\n",
        "This Summary is based on the IMDB Movie Dataset in the last 10 years(From 2006-2016).\n",
        "# Titles of The Movies Having Runtime Greater Than or equal to 180 Minutes are:-\n",
        "* The Wolf of Wall Street\n",
        "* The Hateful Eight\n",
        "* La vie d'Adèle\n",
        "* Grindhouse\n",
        "*  Inland Empire\n",
        "\n",
        "# The Years There Was The Highest Average Voting listed Here:-\n",
        "  \n",
        "In Year 2012 Average Voting is 285226.093750\n",
        "\n",
        "In Year 2008 Average Voting is 275505.384615\n",
        "\n",
        "In Year 2006 Average Voting is 269289.954545\n",
        "\n",
        "In Year 2009 Average Voting is 255780.647059\n",
        "\n",
        "In Year 2010 Average Voting is 252782.316667\n",
        "\n",
        "In Year 2007 Average Voting is 244331.037736\n",
        "\n",
        "In Year 2011 Average Voting is 240790.301587\n",
        "\n",
        "In Year 2013 Average Voting is 219049.648352\n",
        "\n",
        "In Year 2014 Average Voting is 203930.224490\n",
        "\n",
        "In Year 2015 Average Voting is 115726.220472\n",
        "\n",
        "In Year 2016 Average Voting is 48591.754209\n",
        "\n",
        "## The Years There Was The Highest Average Revenue are listed Here:-\n",
        "\n",
        "In Year 2009 Average Revenue is 112.601277\n",
        "\n",
        "In Year 2012 Average Revenue is 107.973281\n",
        "\n",
        "In Year 2010 Average Revenue is 105.081579\n",
        "\n",
        "In Year 2008 Average Revenue is 99.082745\n",
        "\n",
        "In Year 2007 Average Revenue is 87.882245\n",
        "\n",
        "In Year 2011 Average Revenue is 87.612258\n",
        "\n",
        "In Year 2013 Average Revenue is 87.121818\n",
        "\n",
        "In Year 2006 Average Revenue is 86.296667\n",
        "\n",
        "In Year 2014 Average Revenue is 85.078723\n",
        "\n",
        "In Year 2015 Average Revenue is 78.355044\n",
        "\n",
        "In Year 2016 Average Revenue is 54.690976\n",
        "\n",
        "# The Top 5 And Last 5 Average Rating For Each Director is listed here:-\n",
        "\n",
        "# Top 5\n",
        "\n",
        "Nitesh Tiwari        8.80\n",
        "\n",
        "Christopher Nolan    8.68\n",
        "\n",
        "Olivier Nakache      8.60\n",
        "\n",
        "Makoto Shinkai       8.60\n",
        "\n",
        "Aamir Khan           8.50\n",
        "\n",
        "# Last 5\n",
        "\n",
        "Micheal Bafaro       3.50\n",
        "\n",
        "Jonathan Holbrook    3.20\n",
        "\n",
        "Shawn Burkett        2.70\n",
        "\n",
        "James Wong           2.70\n",
        "\n",
        "Jason Friedberg      1.90\n",
        "\n",
        "# Top 10 Lengthy Movies Title and Runtime:-                        \n",
        "Grindhouse:-\n",
        " Total Runtime 191 Minutes.\n",
        "\n",
        "The Hateful Eight:-\n",
        " Total Runtime 187 Minutes.\n",
        "\n",
        "The Wolf of Wall Street:-\n",
        " Total Runtime 180 Minutes.\n",
        "\n",
        "La vie d'Adèle:-\n",
        " Total Runtime 180 Minutes.\n",
        "\n",
        "Inland Empire:-\n",
        " Total Runtime 180 Minutes.\n",
        "\n",
        "Cloud Atlas:-\n",
        " Total Runtime 172 Minutes.\n",
        "\n",
        "3 Idiots:-\n",
        " Total Runtime 170 Minutes.\n",
        "\n",
        "Interstellar:-\n",
        "Total Runtime 169 Minutes.\n",
        "\n",
        "Pirates of the Caribbean:At World's End:-\n",
        " Total Runtime 169 Minutes.\n",
        "\n",
        "The Hobbit: An Unexpected Journey:-\n",
        "Total Runtime 169 Minutes.\n",
        "\n",
        "# The Total Number of Movies Per Year\n",
        "\n",
        "In 2016 -------- 297 Movies.\n",
        "\n",
        "In 2015 -------- 127 Movies.\n",
        "\n",
        "In 2014 -------- 98 Movies.\n",
        "\n",
        "In 2013 -------- 91 Movies.\n",
        "\n",
        "In 2012 -------- 64 Movies.\n",
        "\n",
        "In 2011 -------- 63 Movies.\n",
        "\n",
        "In 2010 -------- 60 Movies.\n",
        "\n",
        "In 2007 -------- 53 Movies.\n",
        "\n",
        "In 2008 -------- 52 Movies.\n",
        "\n",
        "In 2009 -------- 51 Movies.\n",
        "\n",
        "In 2006 -------- 44 Movies.\n",
        "\n",
        "# The Most Popular Movie Title is:-\n",
        "\n",
        "Star Wars: Episode VII - The Force Awakens\n",
        "\n",
        "# Top 10 Highest Rated Movie Titles And its Directors\n",
        "\n",
        "1st:-The Dark Knight  \n",
        "Rating:- 9.0  \n",
        "Director:-Christopher Nolan\n",
        "\n",
        "2nd:-Inception  \n",
        "Rating:- 8.8  \n",
        "Director:-Christopher Nolan\n",
        "\n",
        "3rd:-Dangal  \n",
        "Rating:- 8.8  \n",
        "Director:-Nitesh Tiwari\n",
        "\n",
        "4th:-Interstellar  \n",
        "Rating:- 8.6  \n",
        "Director:-Christopher Nolan\n",
        "\n",
        "5th:-Kimi no na wa  \n",
        "Rating:- 8.6  \n",
        "Director:-Makoto Shinkai\n",
        "\n",
        "6th:-The Intouchables  \n",
        "Rating:- 8.6  \n",
        "Director:-Olivier Nakache\n",
        "\n",
        "7th:-The Prestige  \n",
        "Rating:- 8.5  \n",
        "Director:-Christopher Nolan\n",
        "\n",
        "8th:-The Departed  \n",
        "Rating:-8.5  \n",
        "Director:-Martin Scorsese\n",
        "\n",
        "9th:-The Dark Knight Rises\n",
        "Rating:- 8.5  \n",
        "Director:-Christopher Nolan\n",
        "\n",
        "10th:-Whiplash  \n",
        "Rating:- 8.5  \n",
        "Director:-Damien Chazelle\n",
        "\n",
        "# Top 10 Highest Revenue Movie Titles\n",
        "\n",
        "1st:-Star Wars: Episode VII - The Force Awakens  \n",
        "Revenue:- 936.63\n",
        "\n",
        "2nd:-Avatar  \n",
        "Revenue:- 760.51\n",
        "\n",
        "3rd:-Jurassic World  \n",
        "Revenue:- 652.18\n",
        "\n",
        "4th:-The Avengers  \n",
        "Revenue:- 623.28\n",
        "\n",
        "5th:-The Dark Knight  \n",
        "Revenue:- 533.32\n",
        "\n",
        "6th:-Rogue One  \n",
        "Revenue:- 532.17\n",
        "\n",
        "7th:-Finding Dory  \n",
        "Revenue:- 486.29\n",
        "\n",
        "8th:-Avengers: Age of Ultron  \n",
        "Revenue:- 458.99\n",
        "\n",
        "9th:-The Dark Knight Rises  \n",
        "Revenue:- 448.13\n",
        "\n",
        "10th:-The Hunger Games: Catching Fire  \n",
        "Revenue:- 424.65\n",
        "\n",
        "# Does Rating Affect The Revenue?\n",
        "Yes,Rating does affect Revenue, rating is high revenue also high.\n",
        "The correlation between the rating of a product or service and its corresponding revenue is evident, as a higher rating tends to coincide with increased revenue.\n",
        "\n",
        "# Classify Movies Based on Ratings Based on\n",
        "\n",
        "[if rating >=8.0:Excellent,\n",
        "\n",
        "if rating >= 7.0:Good,\n",
        "\n",
        "else: Average]\n",
        "\n",
        "Guardians of the Galaxy ----- Excellent\n",
        "\n",
        "Prometheus ------------------ Good\n",
        "\n",
        "Split ----------------------- Good\n",
        "\n",
        "Sing ------------------------ Good\n",
        "\n",
        "Suicide Squad --------------- Average  \n",
        "\n",
        "# Total Number of Action Movies in IMDB Movie Dataset\n",
        "\n",
        "Total of 303 Action Movies.\n",
        "\n",
        "# All Unique Values From Genre From IMDB Movie Dataset\n",
        "\n",
        "['Action',\n",
        " 'Adventure',\n",
        " 'Sci-Fi',\n",
        " 'Mystery',\n",
        " 'Horror',\n",
        " 'Thriller',\n",
        " 'Animation',\n",
        " 'Comedy',\n",
        " 'Family',\n",
        " 'Fantasy',\n",
        " 'Drama',\n",
        " 'Music',\n",
        " 'Biography',\n",
        " 'Romance',\n",
        " 'History',\n",
        " 'Crime',\n",
        " 'Western',\n",
        " 'War',\n",
        " 'Musical',\n",
        " 'Sport']\n",
        "\n",
        "\n",
        "\n",
        "      \n",
        "            \n",
        "     \n",
        "\n"
      ],
      "metadata": {
        "id": "Xw75JiRTdyxh"
      }
    }
  ]
}